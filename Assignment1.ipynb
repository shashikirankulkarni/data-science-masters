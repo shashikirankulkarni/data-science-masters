{
 "cells": [
  {
   "cell_type": "markdown",
   "id": "12e14716-7b32-4dc7-aeff-c5a2848270ef",
   "metadata": {},
   "source": [
    "## 1. What are the characteristics of the tuples? Is tuple immutable?"
   ]
  },
  {
   "cell_type": "markdown",
   "id": "19496f10-cb43-4481-a493-25562a9542f3",
   "metadata": {},
   "source": [
    "### Characteristics of Tuples\n",
    "* They are indexed\n",
    "* Tuples are ordered\n",
    "* These are immutable\n",
    "* They can contain duplicate items\n",
    "\n",
    "Yes, Tuples are immutable"
   ]
  },
  {
   "cell_type": "markdown",
   "id": "7d4165fd-8f9f-4fbe-b16c-304954474c8f",
   "metadata": {},
   "source": [
    "## 2. What are the two tuple methods in python? Give an example of each method. Give a reason why tuples have only two in-built methods as compared to Lists."
   ]
  },
  {
   "cell_type": "markdown",
   "id": "7039a601-08f8-42c2-883e-52d602c1b5ba",
   "metadata": {},
   "source": [
    "### Two tuple methods in python are:\n",
    "* count()\n",
    "* index()\n",
    "### Example"
   ]
  },
  {
   "cell_type": "code",
   "execution_count": 3,
   "id": "ab2f54a2-c599-4099-afcf-046cc7e54a91",
   "metadata": {},
   "outputs": [],
   "source": [
    "t1 = (1,2,3,4,5,2,2,2)"
   ]
  },
  {
   "cell_type": "code",
   "execution_count": 4,
   "id": "f0f95bfd-a4c4-480b-a6d0-6a04dc1ec2e2",
   "metadata": {},
   "outputs": [
    {
     "data": {
      "text/plain": [
       "4"
      ]
     },
     "execution_count": 4,
     "metadata": {},
     "output_type": "execute_result"
    }
   ],
   "source": [
    "t1.count(2)"
   ]
  },
  {
   "cell_type": "code",
   "execution_count": 5,
   "id": "a57378b7-95cc-4959-a019-d8acc6fea3a9",
   "metadata": {},
   "outputs": [
    {
     "data": {
      "text/plain": [
       "2"
      ]
     },
     "execution_count": 5,
     "metadata": {},
     "output_type": "execute_result"
    }
   ],
   "source": [
    "t1.index(3)"
   ]
  },
  {
   "cell_type": "markdown",
   "id": "b56324a8-e1a2-47e0-92c5-c2f25eb820e3",
   "metadata": {},
   "source": [
    "#### As a tuple is an immutable data structure in python. Elements of Tuple cannot be modified once they are created. Hence, tuples have only two in-built methods as compared to Lists."
   ]
  },
  {
   "cell_type": "markdown",
   "id": "36f834ea-4739-453b-b517-d7cb0c7d6e44",
   "metadata": {},
   "source": [
    "## 3. Which collection datatypes in python do not allow duplicate items? Write a code using a set to remove duplicates from the given list."
   ]
  },
  {
   "cell_type": "markdown",
   "id": "0b058e0a-4700-425f-81da-325945737f1d",
   "metadata": {},
   "source": [
    "#### Set is a collection which is unordered and unindexed. No duplicate members."
   ]
  },
  {
   "cell_type": "code",
   "execution_count": 6,
   "id": "4c5e44d6-613d-4ada-ad12-ffdfbd849197",
   "metadata": {},
   "outputs": [],
   "source": [
    "List = [1, 1, 1, 2, 1, 3, 1, 4, 2, 1, 2, 2, 2, 3, 2, 4, 3, 1, 3, 2, 3, 3, 3, 4, 4, 1, 4, 2, 4, 3, 4, 4]"
   ]
  },
  {
   "cell_type": "code",
   "execution_count": 7,
   "id": "0f3d423e-a380-4dc3-be97-f826b612af03",
   "metadata": {},
   "outputs": [],
   "source": [
    "s1 = set(List)"
   ]
  },
  {
   "cell_type": "code",
   "execution_count": 8,
   "id": "7c854691-e91b-4e52-8905-9a9ce40338f0",
   "metadata": {},
   "outputs": [
    {
     "data": {
      "text/plain": [
       "{1, 2, 3, 4}"
      ]
     },
     "execution_count": 8,
     "metadata": {},
     "output_type": "execute_result"
    }
   ],
   "source": [
    "s1"
   ]
  },
  {
   "cell_type": "markdown",
   "id": "e53cbbb6-9f76-4cb4-a246-86241099b3a3",
   "metadata": {},
   "source": [
    "## 4. Explain the difference between the union() and update() methods for a set. Give an example of each method."
   ]
  },
  {
   "cell_type": "markdown",
   "id": "704fa78a-ff97-480d-bafb-9590a3f1c4a2",
   "metadata": {},
   "source": [
    "#### union():\n",
    "* The union() method returns a new set that contains all the unique elements from both sets involved in the operation.\n",
    "* It does not modify the original sets; instead, it creates a new set.\n",
    "* The union() method can take multiple sets as arguments or be used with the | operator.\n",
    "* Duplicate elements are automatically removed in the resulting set."
   ]
  },
  {
   "cell_type": "code",
   "execution_count": 9,
   "id": "031ba3fe-bd9b-4404-a8a9-3bff1c340a7b",
   "metadata": {},
   "outputs": [],
   "source": [
    "set1 = {1, 2, 3}\n",
    "set2 = {3, 4, 5}\n",
    "set3 = {5, 6, 7}"
   ]
  },
  {
   "cell_type": "code",
   "execution_count": 12,
   "id": "187e38b1-464a-4f68-9bb7-be6a2eb4e028",
   "metadata": {},
   "outputs": [
    {
     "data": {
      "text/plain": [
       "{1, 2, 3, 4, 5, 6, 7}"
      ]
     },
     "execution_count": 12,
     "metadata": {},
     "output_type": "execute_result"
    }
   ],
   "source": [
    "set1.union(set2,set3)"
   ]
  },
  {
   "cell_type": "code",
   "execution_count": 13,
   "id": "6fc241a7-7d8f-48d3-ab70-b6063f21b188",
   "metadata": {},
   "outputs": [
    {
     "data": {
      "text/plain": [
       "{1, 2, 3, 4, 5, 6, 7}"
      ]
     },
     "execution_count": 13,
     "metadata": {},
     "output_type": "execute_result"
    }
   ],
   "source": [
    "set1.union(set2 | set3)"
   ]
  },
  {
   "cell_type": "code",
   "execution_count": 11,
   "id": "c8171a44-c52f-4876-9eed-fe3ec61027d8",
   "metadata": {},
   "outputs": [
    {
     "data": {
      "text/plain": [
       "{1, 2, 3, 4, 5, 6, 7}"
      ]
     },
     "execution_count": 11,
     "metadata": {},
     "output_type": "execute_result"
    }
   ],
   "source": [
    "set1 | set2 | set3"
   ]
  },
  {
   "cell_type": "markdown",
   "id": "3d3b2586-b36f-44bf-9a55-bf47d36d9a1c",
   "metadata": {},
   "source": [
    "#### update() method:\n",
    "\n",
    "* The update() method modifies the original set by adding all the unique elements from another set or multiple sets to it.\n",
    "* It does not return a new set; instead, it updates the set in place.\n",
    "* Duplicate elements are automatically removed during the update."
   ]
  },
  {
   "cell_type": "code",
   "execution_count": 14,
   "id": "0474f0c0-974c-42c4-9d96-2f3c4b8949ce",
   "metadata": {},
   "outputs": [],
   "source": [
    "set1 = {1, 2, 3}\n",
    "set2 = {3, 4, 5}\n",
    "set3 = {5, 6, 7}"
   ]
  },
  {
   "cell_type": "code",
   "execution_count": 15,
   "id": "255f64f4-8c8a-4e37-8465-d224500512d2",
   "metadata": {},
   "outputs": [],
   "source": [
    "set1.update(set2)"
   ]
  },
  {
   "cell_type": "code",
   "execution_count": 16,
   "id": "c736290f-fe15-422f-bf36-4d4d64251f00",
   "metadata": {},
   "outputs": [
    {
     "data": {
      "text/plain": [
       "{1, 2, 3, 4, 5}"
      ]
     },
     "execution_count": 16,
     "metadata": {},
     "output_type": "execute_result"
    }
   ],
   "source": [
    "set1"
   ]
  },
  {
   "cell_type": "markdown",
   "id": "37b93c29-dc44-4431-b598-35cbce9730cb",
   "metadata": {},
   "source": [
    "## 5. What is a dictionary? Give an example. Also, state whether a dictionary is ordered or unordered."
   ]
  },
  {
   "cell_type": "markdown",
   "id": "37bc3402-f34f-4b3d-9693-d0be74bab865",
   "metadata": {},
   "source": [
    "#### A dictionary is a built-in data type that represents an unordered collection of key-value pairs. It is also known as an associative array or a hash map. Dictionaries are implemented using hash tables, which provide efficient key-value lookup."
   ]
  },
  {
   "cell_type": "code",
   "execution_count": 19,
   "id": "21ffa6b1-bf54-47ad-a557-c3508231df4e",
   "metadata": {},
   "outputs": [],
   "source": [
    "student1 = {\n",
    "    \"name\": \"Shashikiran\",\n",
    "    \"age\": 24,\n",
    "    \"major\": \"Computer Science\",\n",
    "    \"CGPA\": 8.44\n",
    "}"
   ]
  },
  {
   "cell_type": "code",
   "execution_count": 20,
   "id": "6c4d5026-f06a-4c25-8d73-a23515a4d8ac",
   "metadata": {},
   "outputs": [
    {
     "data": {
      "text/plain": [
       "{'name': 'Shashikiran', 'age': 24, 'major': 'Computer Science', 'CGPA': 8.44}"
      ]
     },
     "execution_count": 20,
     "metadata": {},
     "output_type": "execute_result"
    }
   ],
   "source": [
    "student1"
   ]
  },
  {
   "cell_type": "markdown",
   "id": "28259ea1-e334-4c4b-a3ce-237056b63ea8",
   "metadata": {},
   "source": [
    "#### Dictionaries are unordered, which means that the elements are not stored in a specific order. "
   ]
  },
  {
   "cell_type": "markdown",
   "id": "f8bc8673-50d8-413c-86e5-ace82b72d700",
   "metadata": {},
   "source": [
    "## 6. Can we create a nested dictionary? If so, please give an example by creating a simple one-level nested dictionary."
   ]
  },
  {
   "cell_type": "markdown",
   "id": "04030b40-a156-452f-9963-07e612f659f7",
   "metadata": {},
   "source": [
    "#### Yes, we can create a nested dictionary"
   ]
  },
  {
   "cell_type": "code",
   "execution_count": 21,
   "id": "369a036e-6703-4948-a2e0-a46296d9b832",
   "metadata": {},
   "outputs": [],
   "source": [
    "student2 = {\n",
    "    \"name\": \"Shashikiran\",\n",
    "    \"age\": 24,\n",
    "    \"contact\": {\n",
    "        \"email\": \"shashikirankulkarni@gmail.com\",\n",
    "        \"phone\": \"1234567890\"\n",
    "    },\n",
    "    \"GPA\": 8.5\n",
    "}"
   ]
  },
  {
   "cell_type": "markdown",
   "id": "c1e6a7e7-25ac-4cf9-95b7-07ee22a3d2f8",
   "metadata": {},
   "source": [
    "student2"
   ]
  },
  {
   "cell_type": "markdown",
   "id": "2ec8c9dd-d073-4bae-aeaf-8f4435a7a2c0",
   "metadata": {},
   "source": [
    "## 7. Using setdefault() method, create key named topics in the given dictionary and also add the value of the key as this list ['Python', 'Machine Learning’, 'Deep Learning']"
   ]
  },
  {
   "cell_type": "code",
   "execution_count": 27,
   "id": "9977d821-c439-45af-8341-270ee1000be5",
   "metadata": {},
   "outputs": [],
   "source": [
    "dict1 = {'language' : 'Python', 'course': 'Data Science Masters'}"
   ]
  },
  {
   "cell_type": "code",
   "execution_count": 28,
   "id": "5543d71d-d598-4ac4-8e53-67e7ae33e623",
   "metadata": {},
   "outputs": [
    {
     "data": {
      "text/plain": [
       "['Python', 'Machine Learning', 'Deep Learning']"
      ]
     },
     "execution_count": 28,
     "metadata": {},
     "output_type": "execute_result"
    }
   ],
   "source": [
    "dict1.setdefault(\"topics\", ['Python', 'Machine Learning', 'Deep Learning'])"
   ]
  },
  {
   "cell_type": "code",
   "execution_count": 29,
   "id": "af77e0e1-a3e5-4600-897c-ed7345ac3b7f",
   "metadata": {},
   "outputs": [
    {
     "data": {
      "text/plain": [
       "{'language': 'Python',\n",
       " 'course': 'Data Science Masters',\n",
       " 'topics': ['Python', 'Machine Learning', 'Deep Learning']}"
      ]
     },
     "execution_count": 29,
     "metadata": {},
     "output_type": "execute_result"
    }
   ],
   "source": [
    "dict1"
   ]
  },
  {
   "cell_type": "markdown",
   "id": "b6f33a87-80bc-4764-9cf4-87f6d0956d1e",
   "metadata": {},
   "source": [
    "## 8. What are the three view objects in dictionaries? Use the three in-built methods in python to display these three view objects for the given dictionary."
   ]
  },
  {
   "cell_type": "markdown",
   "id": "d5750c66-76d6-44ec-bb0e-9c5ce8c4f09a",
   "metadata": {},
   "source": [
    "####  There are three view objects that provide dynamic views of the dictionary's keys, values, and key-value pairs. These view objects are:\n",
    "\n",
    "* dict_keys: It represents a dynamic view of the dictionary's keys.\n",
    "* dict_values: It represents a dynamic view of the dictionary's values.\n",
    "* dict_items: It represents a dynamic view of the dictionary's key-value pairs."
   ]
  },
  {
   "cell_type": "code",
   "execution_count": 30,
   "id": "fec8e010-c580-4b5c-bd15-b2557e2db42f",
   "metadata": {},
   "outputs": [],
   "source": [
    "dict1 = {'Sport': 'Cricket' , 'Teams': ['India', 'Australia', 'England', 'South Africa', 'Sri Lanka', 'New Zealand']}"
   ]
  },
  {
   "cell_type": "code",
   "execution_count": 31,
   "id": "741a6abb-29f5-483a-8e16-87685a14f45c",
   "metadata": {},
   "outputs": [
    {
     "data": {
      "text/plain": [
       "{'Sport': 'Cricket',\n",
       " 'Teams': ['India',\n",
       "  'Australia',\n",
       "  'England',\n",
       "  'South Africa',\n",
       "  'Sri Lanka',\n",
       "  'New Zealand']}"
      ]
     },
     "execution_count": 31,
     "metadata": {},
     "output_type": "execute_result"
    }
   ],
   "source": [
    "dict1"
   ]
  },
  {
   "cell_type": "code",
   "execution_count": 32,
   "id": "2b4f7889-02bd-4608-a51a-ba1667470c1e",
   "metadata": {},
   "outputs": [
    {
     "data": {
      "text/plain": [
       "dict_keys(['Sport', 'Teams'])"
      ]
     },
     "execution_count": 32,
     "metadata": {},
     "output_type": "execute_result"
    }
   ],
   "source": [
    "dict1.keys()"
   ]
  },
  {
   "cell_type": "code",
   "execution_count": 33,
   "id": "f1aaf3f2-5876-4b4c-bab4-4f05b59d1611",
   "metadata": {},
   "outputs": [
    {
     "data": {
      "text/plain": [
       "dict_values(['Cricket', ['India', 'Australia', 'England', 'South Africa', 'Sri Lanka', 'New Zealand']])"
      ]
     },
     "execution_count": 33,
     "metadata": {},
     "output_type": "execute_result"
    }
   ],
   "source": [
    "dict1.values()"
   ]
  },
  {
   "cell_type": "code",
   "execution_count": 34,
   "id": "0b531e01-39b2-408e-b453-9bc08e6d5dac",
   "metadata": {},
   "outputs": [
    {
     "data": {
      "text/plain": [
       "dict_items([('Sport', 'Cricket'), ('Teams', ['India', 'Australia', 'England', 'South Africa', 'Sri Lanka', 'New Zealand'])])"
      ]
     },
     "execution_count": 34,
     "metadata": {},
     "output_type": "execute_result"
    }
   ],
   "source": [
    "dict1.items()"
   ]
  },
  {
   "cell_type": "code",
   "execution_count": null,
   "id": "0df3495b-d4aa-4037-9636-487db962f8ba",
   "metadata": {},
   "outputs": [],
   "source": []
  }
 ],
 "metadata": {
  "kernelspec": {
   "display_name": "Python 3 (ipykernel)",
   "language": "python",
   "name": "python3"
  },
  "language_info": {
   "codemirror_mode": {
    "name": "ipython",
    "version": 3
   },
   "file_extension": ".py",
   "mimetype": "text/x-python",
   "name": "python",
   "nbconvert_exporter": "python",
   "pygments_lexer": "ipython3",
   "version": "3.10.8"
  }
 },
 "nbformat": 4,
 "nbformat_minor": 5
}
